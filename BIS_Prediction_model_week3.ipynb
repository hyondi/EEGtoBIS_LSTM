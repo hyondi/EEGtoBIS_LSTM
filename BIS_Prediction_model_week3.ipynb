{
  "nbformat": 4,
  "nbformat_minor": 0,
  "metadata": {
    "colab": {
      "provenance": []
    },
    "kernelspec": {
      "name": "python3",
      "display_name": "Python 3"
    },
    "language_info": {
      "name": "python"
    }
  },
  "cells": [
    {
      "cell_type": "code",
      "execution_count": null,
      "metadata": {
        "id": "9p8-wOZCUF66",
        "colab": {
          "base_uri": "https://localhost:8080/"
        },
        "outputId": "eae25e08-dc46-4ef1-fb4c-7c7ae8325f15"
      },
      "outputs": [
        {
          "output_type": "stream",
          "name": "stdout",
          "text": [
            "Mounted at /content/drive/\n"
          ]
        }
      ],
      "source": [
        "from google.colab import drive\n",
        "drive.mount(\"/content/drive/\")"
      ]
    },
    {
      "cell_type": "code",
      "execution_count": null,
      "metadata": {
        "id": "yGfhdaZfUGtn"
      },
      "outputs": [],
      "source": [
        "import numpy as np\n",
        "import pandas as pd\n",
        "from matplotlib import pyplot as plt\n",
        "import seaborn as sns"
      ]
    },
    {
      "cell_type": "code",
      "execution_count": null,
      "metadata": {
        "id": "m-v4_IBSUPKr"
      },
      "outputs": [],
      "source": [
        "proj_path = \"/content/drive/MyDrive/2023/2023_하계_시그널하우스_연구체험 인턴십/01_BIS prediction using EEG signals\""
      ]
    },
    {
      "cell_type": "markdown",
      "source": [
        "# 전처리"
      ],
      "metadata": {
        "id": "vcwwQSa6bbxp"
      }
    },
    {
      "cell_type": "code",
      "execution_count": null,
      "metadata": {
        "id": "vk0mPidoURYJ",
        "colab": {
          "base_uri": "https://localhost:8080/"
        },
        "outputId": "f296d1cc-45ea-4cb2-c246-40d0e99ea7b0"
      },
      "outputs": [
        {
          "output_type": "stream",
          "name": "stdout",
          "text": [
            "[[  nan   nan 16.  ]\n",
            " [  nan   nan 16.35]\n",
            " [  nan   nan 16.05]\n",
            " ...\n",
            " [  nan   nan   nan]\n",
            " [  nan   nan   nan]\n",
            " [  nan   nan   nan]]\n"
          ]
        }
      ],
      "source": [
        "data0 = np.load(f'{proj_path}/data/raw/0.npy')\n",
        "\n",
        "print(data0)"
      ]
    },
    {
      "cell_type": "code",
      "execution_count": null,
      "metadata": {
        "id": "TV9lZH1IkJS7",
        "colab": {
          "base_uri": "https://localhost:8080/"
        },
        "outputId": "11afc78e-72d5-458e-8e4b-9e8d1102ec0a"
      },
      "outputs": [
        {
          "output_type": "stream",
          "name": "stdout",
          "text": [
            "shape :  (1963291, 3)\n",
            "size :  5889873\n"
          ]
        }
      ],
      "source": [
        "print('shape : ',data0.shape)\n",
        "print('size : ', data0.size)"
      ]
    },
    {
      "cell_type": "code",
      "execution_count": null,
      "metadata": {
        "id": "gJMwxsPRgmnS",
        "colab": {
          "base_uri": "https://localhost:8080/"
        },
        "outputId": "524b2fc6-8bef-4540-97c7-eab37dd1280e"
      },
      "outputs": [
        {
          "output_type": "execute_result",
          "data": {
            "text/plain": [
              "2002348"
            ]
          },
          "metadata": {},
          "execution_count": 7
        }
      ],
      "source": [
        "np.isnan(data0)[np.isnan(data0) == False].size"
      ]
    },
    {
      "cell_type": "code",
      "execution_count": null,
      "metadata": {
        "id": "xKRlFtBVUT54"
      },
      "outputs": [],
      "source": [
        "#BIS nan아닌 애들 indexing\n",
        "\n",
        "bis = data0[:, 0]\n",
        "bis_cond = ~np.isnan(bis)"
      ]
    },
    {
      "cell_type": "code",
      "execution_count": null,
      "metadata": {
        "id": "2WUfiZj1P5CG",
        "colab": {
          "base_uri": "https://localhost:8080/"
        },
        "outputId": "7815ab4c-4981-431c-9421-1f64a1f4aac4"
      },
      "outputs": [
        {
          "output_type": "execute_result",
          "data": {
            "text/plain": [
              "array([False, False, False, ..., False, False, False])"
            ]
          },
          "metadata": {},
          "execution_count": 9
        }
      ],
      "source": [
        "bis_cond"
      ]
    },
    {
      "cell_type": "code",
      "execution_count": null,
      "metadata": {
        "id": "MKhDbX4lUWLf"
      },
      "outputs": [],
      "source": [
        "idx_arr = np.arange(0, len(bis), 1)\n",
        "bis_idx = idx_arr[bis_cond]"
      ]
    },
    {
      "cell_type": "code",
      "execution_count": null,
      "metadata": {
        "id": "3V63r28_UWSL",
        "colab": {
          "base_uri": "https://localhost:8080/"
        },
        "outputId": "4958eea2-c311-45b8-beb1-b342ada1c592"
      },
      "outputs": [
        {
          "output_type": "execute_result",
          "data": {
            "text/plain": [
              "(19630,)"
            ]
          },
          "metadata": {},
          "execution_count": 11
        }
      ],
      "source": [
        "bis_idx.shape"
      ]
    },
    {
      "cell_type": "code",
      "execution_count": null,
      "metadata": {
        "id": "-laJzmE9UWU_",
        "colab": {
          "base_uri": "https://localhost:8080/"
        },
        "outputId": "6b60e5d0-774d-473d-dfc7-1fba928d47a3"
      },
      "outputs": [
        {
          "output_type": "execute_result",
          "data": {
            "text/plain": [
              "array([     86,     186,     286, ..., 1962890, 1962990, 1963090])"
            ]
          },
          "metadata": {},
          "execution_count": 12
        }
      ],
      "source": [
        "bis_idx"
      ]
    },
    {
      "cell_type": "code",
      "source": [
        "d = np.isnan(bis_idx)[np.isnan(bis_idx) == True].size\n",
        "print('bis_label 결측치', d)"
      ],
      "metadata": {
        "colab": {
          "base_uri": "https://localhost:8080/"
        },
        "id": "gSOgVBM1crKb",
        "outputId": "3af0e33b-0115-4cfa-99b0-90412a5758b6"
      },
      "execution_count": null,
      "outputs": [
        {
          "output_type": "stream",
          "name": "stdout",
          "text": [
            "bis_label 결측치 0\n"
          ]
        }
      ]
    },
    {
      "cell_type": "code",
      "execution_count": null,
      "metadata": {
        "id": "1za5LMqhfxLv"
      },
      "outputs": [],
      "source": [
        "#EEG 30s씩 자르기\n",
        "\n",
        "start = 55*100\n",
        "\n",
        "eeg_start_idx = bis_idx - start\n",
        "eeg_start_idx = eeg_start_idx[eeg_start_idx >= 0]"
      ]
    },
    {
      "cell_type": "code",
      "execution_count": null,
      "metadata": {
        "id": "8Oc2CIKLf1RU",
        "colab": {
          "base_uri": "https://localhost:8080/"
        },
        "outputId": "1a682210-3083-4069-bea6-55bcb2bfb786"
      },
      "outputs": [
        {
          "output_type": "execute_result",
          "data": {
            "text/plain": [
              "array([16.  , 16.35, 16.05, ...,   nan,   nan,   nan])"
            ]
          },
          "metadata": {},
          "execution_count": 14
        }
      ],
      "source": [
        "eeg = data0[:, 2]\n",
        "eeg"
      ]
    },
    {
      "cell_type": "code",
      "source": [
        "eeg.shape"
      ],
      "metadata": {
        "id": "452Y9JEhowDz",
        "colab": {
          "base_uri": "https://localhost:8080/"
        },
        "outputId": "48ebd7c8-27e9-4300-f6e6-00aa4e70575a"
      },
      "execution_count": null,
      "outputs": [
        {
          "output_type": "execute_result",
          "data": {
            "text/plain": [
              "(1963291,)"
            ]
          },
          "metadata": {},
          "execution_count": 15
        }
      ]
    },
    {
      "cell_type": "code",
      "execution_count": null,
      "metadata": {
        "id": "svjebTD0jlW0"
      },
      "outputs": [],
      "source": [
        "a = np.isnan(bis)[np.isnan(bis) == True].size\n",
        "b = np.isnan(eeg)[np.isnan(eeg) == True].size"
      ]
    },
    {
      "cell_type": "code",
      "execution_count": null,
      "metadata": {
        "id": "01owSO5AicWP",
        "colab": {
          "base_uri": "https://localhost:8080/"
        },
        "outputId": "063a8e06-7ac5-4f5d-8a99-571af5ee8fb4"
      },
      "outputs": [
        {
          "output_type": "stream",
          "name": "stdout",
          "text": [
            "BIS nan 값 개수 :  1943661\n",
            "EEG nan 값 개수 :  203\n"
          ]
        }
      ],
      "source": [
        "print( \"BIS nan 값 개수 : \" , a)\n",
        "print(\"EEG nan 값 개수 : \" , b)"
      ]
    },
    {
      "cell_type": "code",
      "execution_count": null,
      "metadata": {
        "id": "qwb8zNXCf3IG",
        "colab": {
          "base_uri": "https://localhost:8080/"
        },
        "outputId": "3f32354e-3afa-490a-8fb6-9eb829eb2865"
      },
      "outputs": [
        {
          "output_type": "execute_result",
          "data": {
            "text/plain": [
              "(19575,)"
            ]
          },
          "metadata": {},
          "execution_count": 18
        }
      ],
      "source": [
        "eeg_start_idx.shape"
      ]
    },
    {
      "cell_type": "code",
      "execution_count": null,
      "metadata": {
        "id": "MYU_NIADf5N0",
        "colab": {
          "base_uri": "https://localhost:8080/"
        },
        "outputId": "96bccac2-e344-4493-a172-6ab5431bc943"
      },
      "outputs": [
        {
          "output_type": "execute_result",
          "data": {
            "text/plain": [
              "array([     86,     186,     286, ..., 1957390, 1957490, 1957590])"
            ]
          },
          "metadata": {},
          "execution_count": 19
        }
      ],
      "source": [
        "eeg_start_idx"
      ]
    },
    {
      "cell_type": "code",
      "execution_count": null,
      "metadata": {
        "id": "oVtJ_aqhf94s"
      },
      "outputs": [],
      "source": [
        "from tqdm import tqdm"
      ]
    },
    {
      "cell_type": "code",
      "execution_count": null,
      "metadata": {
        "id": "JY-xCpJCgA4G",
        "colab": {
          "base_uri": "https://localhost:8080/"
        },
        "outputId": "e1640d24-9c75-458c-95d3-b5f134a657a4"
      },
      "outputs": [
        {
          "output_type": "stream",
          "name": "stderr",
          "text": [
            "100%|██████████| 19575/19575 [00:00<00:00, 240319.58it/s]\n"
          ]
        }
      ],
      "source": [
        "eeg_segments = []\n",
        "bis_label = []\n",
        "sqi_label = []\n",
        "for start_idx in tqdm(eeg_start_idx):\n",
        "  end_idx = start_idx + 30 * 100\n",
        "  eeg_segments += list([eeg[start_idx:end_idx]])\n",
        "  bis_label += list([bis[start_idx]])"
      ]
    },
    {
      "cell_type": "code",
      "execution_count": null,
      "metadata": {
        "id": "upzlkkNhgDiv"
      },
      "outputs": [],
      "source": [
        "eeg_segments = np.array(eeg_segments)\n",
        "bis_label = np.array(bis_label)"
      ]
    },
    {
      "cell_type": "code",
      "source": [
        "eeg_segments"
      ],
      "metadata": {
        "id": "9cSK-DGooIBY",
        "colab": {
          "base_uri": "https://localhost:8080/"
        },
        "outputId": "0634fec7-5bfa-46ee-ce9d-af832448b2b4"
      },
      "execution_count": null,
      "outputs": [
        {
          "output_type": "execute_result",
          "data": {
            "text/plain": [
              "array([[16.3 , 15.85, 15.55, ..., 16.6 , 16.9 , 16.  ],\n",
              "       [16.25, 16.3 , 16.  , ..., 15.9 , 15.9 , 15.75],\n",
              "       [15.35, 15.95, 16.3 , ..., 16.05, 15.95, 16.25],\n",
              "       ...,\n",
              "       [16.3 , 16.45, 16.15, ..., 16.2 , 16.35, 16.3 ],\n",
              "       [15.95, 16.1 , 16.1 , ..., 15.85, 16.  , 16.3 ],\n",
              "       [16.1 , 16.75, 16.45, ..., 16.2 , 16.35, 16.05]])"
            ]
          },
          "metadata": {},
          "execution_count": 23
        }
      ]
    },
    {
      "cell_type": "code",
      "execution_count": null,
      "metadata": {
        "id": "3odsgJ9KgUPv",
        "colab": {
          "base_uri": "https://localhost:8080/"
        },
        "outputId": "9a59c902-a656-4885-8871-bd4b69bd0403"
      },
      "outputs": [
        {
          "output_type": "execute_result",
          "data": {
            "text/plain": [
              "(19575,)"
            ]
          },
          "metadata": {},
          "execution_count": 24
        }
      ],
      "source": [
        "bis_label.shape"
      ]
    },
    {
      "cell_type": "markdown",
      "source": [
        "# 이상치 관련"
      ],
      "metadata": {
        "id": "QbQlbnYyb4Ju"
      }
    },
    {
      "cell_type": "code",
      "source": [
        "from scipy.stats import mode"
      ],
      "metadata": {
        "id": "yoM_0rIMb3Rq"
      },
      "execution_count": null,
      "outputs": []
    },
    {
      "cell_type": "code",
      "source": [
        "#eeg 결측치 채우기\n",
        "\n",
        "c = np.isnan(eeg_segments)[np.isnan(eeg_segments) == True].size\n",
        "print('eeg_segments 결측치', c)"
      ],
      "metadata": {
        "colab": {
          "base_uri": "https://localhost:8080/"
        },
        "id": "48BeuVlkdFdj",
        "outputId": "6b0956a1-64be-4f5e-f108-3d0d46e43ea9"
      },
      "execution_count": null,
      "outputs": [
        {
          "output_type": "stream",
          "name": "stdout",
          "text": [
            "eeg_segments 결측치 1890\n"
          ]
        }
      ]
    },
    {
      "cell_type": "code",
      "source": [
        "#eeg 결측치 채우기\n",
        "\n",
        "A = eeg_segments\n",
        "\n",
        "col_mean = np.nanmean(A, axis=1)\n",
        "print(col_mean)\n",
        "eeg_segments.shape, col_mean.shape"
      ],
      "metadata": {
        "colab": {
          "base_uri": "https://localhost:8080/"
        },
        "id": "PJo4HgYPhC4u",
        "outputId": "cd6aeda1-ea17-46e2-e040-8cfa2716cde3"
      },
      "execution_count": null,
      "outputs": [
        {
          "output_type": "stream",
          "name": "stdout",
          "text": [
            "[16.063      16.06353333 16.06343333 ... 16.16613333 16.1623\n",
            " 16.16226667]\n"
          ]
        },
        {
          "output_type": "execute_result",
          "data": {
            "text/plain": [
              "((19575, 3000), (19575,))"
            ]
          },
          "metadata": {},
          "execution_count": 54
        }
      ]
    },
    {
      "cell_type": "code",
      "source": [
        "inds = np.where(np.isnan(A))\n",
        "A[inds] = np.take(col_mean, inds[1])\n",
        "print(A)\n",
        "A.shape\n"
      ],
      "metadata": {
        "colab": {
          "base_uri": "https://localhost:8080/"
        },
        "id": "1njWCYs8hngj",
        "outputId": "42e1c182-36fc-4213-e5e4-11b5594d299b"
      },
      "execution_count": null,
      "outputs": [
        {
          "output_type": "stream",
          "name": "stdout",
          "text": [
            "[[16.3  15.85 15.55 ... 16.6  16.9  16.  ]\n",
            " [16.25 16.3  16.   ... 15.9  15.9  15.75]\n",
            " [15.35 15.95 16.3  ... 16.05 15.95 16.25]\n",
            " ...\n",
            " [16.3  16.45 16.15 ... 16.2  16.35 16.3 ]\n",
            " [15.95 16.1  16.1  ... 15.85 16.   16.3 ]\n",
            " [16.1  16.75 16.45 ... 16.2  16.35 16.05]]\n"
          ]
        },
        {
          "output_type": "execute_result",
          "data": {
            "text/plain": [
              "(19575, 3000)"
            ]
          },
          "metadata": {},
          "execution_count": 78
        }
      ]
    },
    {
      "cell_type": "code",
      "source": [
        "mean = np.mean(A)\n",
        "\n",
        "std = np.std(A)\n",
        "\n",
        "print('데이터의 평균은', mean)\n",
        "\n",
        "print('데이터의 표준 편차는', std)"
      ],
      "metadata": {
        "colab": {
          "base_uri": "https://localhost:8080/"
        },
        "id": "FG9Wr5Xgh57r",
        "outputId": "0de4ec1e-66ea-480f-e869-797247f631c0"
      },
      "execution_count": null,
      "outputs": [
        {
          "output_type": "stream",
          "name": "stdout",
          "text": [
            "데이터의 평균은 16.920158993348103\n",
            "데이터의 표준 편차는 57.83618995961374\n"
          ]
        }
      ]
    },
    {
      "cell_type": "code",
      "source": [
        "#이상치 제거 사분위수\n",
        "\n",
        "def outliers_iqr(data):\n",
        "  q1, q3 = np.percentile(data, [1,99])\n",
        "  # iqr = q3 - q1\n",
        "  # lower_bound = q1 - (iqr * 1.5)\n",
        "  # upper_bound = q3 + (iqr * 1.5)\n",
        "\n",
        "  # return iqr, lower_bound, upper_bound\n",
        "  # outlier = np.where((data > upper_bound)|(data < lower_bound))\n",
        "  # return outlier\n",
        "\n",
        "  return q1, q3"
      ],
      "metadata": {
        "id": "EO0fHplAb_sH"
      },
      "execution_count": null,
      "outputs": []
    },
    {
      "cell_type": "code",
      "source": [
        "# def outliers_1(data):\n",
        "#   q1, q3 = np.percentile(data, [1,99])\n",
        "\n",
        "#   return q1, q3\n",
        "#   # outlier = np.where((data > upper_bound)|(data < lower_bound))\n",
        "#   # return outlier"
      ],
      "metadata": {
        "id": "VU39u0v_wBlr"
      },
      "execution_count": null,
      "outputs": []
    },
    {
      "cell_type": "code",
      "source": [
        "outliers_iqr(A)"
      ],
      "metadata": {
        "id": "HcBI26dJGopN",
        "colab": {
          "base_uri": "https://localhost:8080/"
        },
        "outputId": "a13a2d66-1d93-43fb-b75f-4854eb46e91e"
      },
      "execution_count": null,
      "outputs": [
        {
          "output_type": "execute_result",
          "data": {
            "text/plain": [
              "(-48.5, 67.2)"
            ]
          },
          "metadata": {},
          "execution_count": 144
        }
      ]
    },
    {
      "cell_type": "code",
      "source": [
        "# eeg_del_con_min =  -35.05 < A\n",
        "# eeg_del_con_max =  A > 70.55\n",
        "\n",
        "eeg_del_con=  (-48.5 < A) & (A < 67.2)\n",
        "eeg_del_con.shape\n",
        "eeg_del_con"
      ],
      "metadata": {
        "colab": {
          "base_uri": "https://localhost:8080/"
        },
        "id": "5Z8b8v4YmJPJ",
        "outputId": "8e6629e1-5917-4298-82ba-053eb363a7ed"
      },
      "execution_count": null,
      "outputs": [
        {
          "output_type": "execute_result",
          "data": {
            "text/plain": [
              "array([[ True,  True,  True, ...,  True,  True,  True],\n",
              "       [ True,  True,  True, ...,  True,  True,  True],\n",
              "       [ True,  True,  True, ...,  True,  True,  True],\n",
              "       ...,\n",
              "       [ True,  True,  True, ...,  True,  True,  True],\n",
              "       [ True,  True,  True, ...,  True,  True,  True],\n",
              "       [ True,  True,  True, ...,  True,  True,  True]])"
            ]
          },
          "metadata": {},
          "execution_count": 145
        }
      ]
    },
    {
      "cell_type": "code",
      "source": [
        "# false가 하나라도 있는 행 전체를 날려버리기\n",
        "\n",
        "eeg_false_idx = np.array([np.all(i) for i in eeg_del_con])\n",
        "eeg_false_idx"
      ],
      "metadata": {
        "colab": {
          "base_uri": "https://localhost:8080/"
        },
        "id": "G8lNda7SrLG3",
        "outputId": "071cf89e-c57e-4138-d96e-1ebd0b345f4a"
      },
      "execution_count": null,
      "outputs": [
        {
          "output_type": "execute_result",
          "data": {
            "text/plain": [
              "array([ True,  True,  True, ...,  True,  True,  True])"
            ]
          },
          "metadata": {},
          "execution_count": 146
        }
      ]
    },
    {
      "cell_type": "code",
      "source": [
        "eeg_selected = A[eeg_false_idx]"
      ],
      "metadata": {
        "id": "dQ9kmQ8IrLQE"
      },
      "execution_count": null,
      "outputs": []
    },
    {
      "cell_type": "code",
      "source": [
        "eeg_selected.shape"
      ],
      "metadata": {
        "colab": {
          "base_uri": "https://localhost:8080/"
        },
        "id": "1KTz21RurLTU",
        "outputId": "f20a4e06-a435-4799-dceb-346f60dd7a0a"
      },
      "execution_count": null,
      "outputs": [
        {
          "output_type": "execute_result",
          "data": {
            "text/plain": [
              "(1229, 3000)"
            ]
          },
          "metadata": {},
          "execution_count": 148
        }
      ]
    },
    {
      "cell_type": "code",
      "source": [],
      "metadata": {
        "id": "gHNJL5U6uQJ7"
      },
      "execution_count": null,
      "outputs": []
    },
    {
      "cell_type": "markdown",
      "source": [
        "# outlier 제거 시각화"
      ],
      "metadata": {
        "id": "ss-fxhL_uPLb"
      }
    },
    {
      "cell_type": "code",
      "source": [
        "#시각화\n",
        "\n",
        "x = np.linspace(0,1229, 1229)\n",
        "b = eeg_selected\n",
        "# plt.ticklabel_format(style='plain')\n",
        "\n",
        "fig, ax = plt.subplots(figsize = (40,4))\n",
        "\n",
        "plt.plot(x,b, color = 'navy')\n",
        "plt.xlabel('index', fontsize =20)\n",
        "plt.ylabel('EEG(μV)', fontsize = 20)\n",
        "plt.title('delete outliers of EEG', fontsize=20)\n",
        "plt.xticks(fontsize=20)\n",
        "plt.yticks(fontsize=20)\n",
        "\n",
        "\n",
        "plt.ticklabel_format(style='plain')\n",
        "\n",
        "# ax.set_xticks(minor_xticks, minor=True)\n",
        "ax.yaxis.get_ticklocs(minor=True)\n",
        "ax.minorticks_on()\n",
        "ax.xaxis.get_ticklocs(minor=True)\n",
        "\n",
        "ax.tick_params(axis='x', labelsize=20, length=10, width=3)\n",
        "ax.tick_params(axis='x', which='minor', length=5, width=2)\n",
        "# plt.fill_between(x, b, color = 'navy')\n"
      ],
      "metadata": {
        "colab": {
          "base_uri": "https://localhost:8080/",
          "height": 254
        },
        "id": "OPIr7_8puYzR",
        "outputId": "b644ac24-1c3a-43d0-98b8-d9b4617313cc"
      },
      "execution_count": null,
      "outputs": [
        {
          "output_type": "display_data",
          "data": {
            "text/plain": [
              "<Figure size 4000x400 with 1 Axes>"
            ],
            "image/png": "[encoded data removed]"
          },
          "metadata": {}
        }
      ]
    },
    {
      "cell_type": "markdown",
      "source": [],
      "metadata": {
        "id": "how6DaBmuPAv"
      }
    },
    {
      "cell_type": "code",
      "source": [],
      "metadata": {
        "id": "jPav2OaYuOtg"
      },
      "execution_count": null,
      "outputs": []
    },
    {
      "cell_type": "code",
      "source": [
        "eeg_selected = A[eeg_del_con]"
      ],
      "metadata": {
        "id": "Dmn2sfyImbKy"
      },
      "execution_count": null,
      "outputs": []
    },
    {
      "cell_type": "code",
      "source": [
        "eeg_selected.shape"
      ],
      "metadata": {
        "colab": {
          "base_uri": "https://localhost:8080/"
        },
        "id": "GQU8NeJ1nmOf",
        "outputId": "e6d2fa32-5e1f-4415-e9d6-2fa3944571cd"
      },
      "execution_count": null,
      "outputs": [
        {
          "output_type": "execute_result",
          "data": {
            "text/plain": [
              "(57183435,)"
            ]
          },
          "metadata": {},
          "execution_count": 115
        }
      ]
    },
    {
      "cell_type": "code",
      "source": [
        "eeg_sel\n"
      ],
      "metadata": {
        "id": "bBPQiBYwpE0G"
      },
      "execution_count": null,
      "outputs": []
    },
    {
      "cell_type": "code",
      "source": [
        "#test\n",
        "\n",
        "data = [-9,-7,-5,-3,-1,0,1,3,5,7,9]\n",
        "data = np.array(data)\n",
        "del_con =  (-7 < data) & (data < 7)\n",
        "del_con\n",
        "data = data[del_con]\n",
        "data\n"
      ],
      "metadata": {
        "colab": {
          "base_uri": "https://localhost:8080/"
        },
        "id": "K1_DhByFpRMk",
        "outputId": "744bf5cc-0a4a-485a-e183-a9ae9243e441"
      },
      "execution_count": null,
      "outputs": [
        {
          "output_type": "execute_result",
          "data": {
            "text/plain": [
              "array([-5, -3, -1,  0,  1,  3,  5])"
            ]
          },
          "metadata": {},
          "execution_count": 110
        }
      ]
    }
  ]
}