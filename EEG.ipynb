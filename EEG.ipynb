{
  "cells": [
    {
      "cell_type": "code",
      "execution_count": null,
      "metadata": {
        "id": "9p8-wOZCUF66",
        "outputId": "f11af03a-4545-4ea0-e434-f03b804b2b53",
        "colab": {
          "base_uri": "https://localhost:8080/"
        }
      },
      "outputs": [
        {
          "output_type": "stream",
          "name": "stdout",
          "text": [
            "Drive already mounted at /content/drive/; to attempt to forcibly remount, call drive.mount(\"/content/drive/\", force_remount=True).\n"
          ]
        }
      ],
      "source": [
        "from google.colab import drive\n",
        "drive.mount(\"/content/drive/\")"
      ]
    },
    {
      "cell_type": "code",
      "execution_count": null,
      "metadata": {
        "id": "yGfhdaZfUGtn"
      },
      "outputs": [],
      "source": [
        "import numpy as np\n",
        "import pandas as pd\n",
        "from matplotlib import pyplot as plt\n",
        "import seaborn as sns"
      ]
    },
    {
      "cell_type": "markdown",
      "metadata": {
        "id": "nqFw0sc8kHaZ"
      },
      "source": []
    },
    {
      "cell_type": "code",
      "execution_count": null,
      "metadata": {
        "id": "m-v4_IBSUPKr"
      },
      "outputs": [],
      "source": [
        "proj_path = \"/content/drive/MyDrive/2023/2023_하계_시그널하우스_연구체험 인턴십/01_BIS prediction using EEG signals\""
      ]
    },
    {
      "cell_type": "markdown",
      "metadata": {
        "id": "ovT4JX0yUSQd"
      },
      "source": [
        "# 전처리 1개"
      ]
    },
    {
      "cell_type": "code",
      "execution_count": null,
      "metadata": {
        "id": "vk0mPidoURYJ"
      },
      "outputs": [],
      "source": [
        "data0 = np.load(f'{proj_path}/data/raw/0.npy')\n",
        "\n",
        "print(data0)"
      ]
    },
    {
      "cell_type": "code",
      "execution_count": null,
      "metadata": {
        "id": "TV9lZH1IkJS7"
      },
      "outputs": [],
      "source": [
        "print('shape : ',data0.shape)\n",
        "print('size : ', data0.size)"
      ]
    },
    {
      "cell_type": "code",
      "execution_count": null,
      "metadata": {
        "id": "gJMwxsPRgmnS"
      },
      "outputs": [],
      "source": [
        "np.isnan(data0)[np.isnan(data0) == False].size"
      ]
    },
    {
      "cell_type": "code",
      "execution_count": null,
      "metadata": {
        "id": "xKRlFtBVUT54"
      },
      "outputs": [],
      "source": [
        "#BIS nan아닌 애들 indexing\n",
        "\n",
        "bis = data0[:, 0]\n",
        "bis_cond = ~np.isnan(bis)"
      ]
    },
    {
      "cell_type": "code",
      "execution_count": null,
      "metadata": {
        "id": "2WUfiZj1P5CG"
      },
      "outputs": [],
      "source": [
        "bis_cond"
      ]
    },
    {
      "cell_type": "code",
      "execution_count": null,
      "metadata": {
        "id": "MKhDbX4lUWLf"
      },
      "outputs": [],
      "source": [
        "idx_arr = np.arange(0, len(bis), 1)\n",
        "bis_idx = idx_arr[bis_cond]"
      ]
    },
    {
      "cell_type": "code",
      "execution_count": null,
      "metadata": {
        "id": "3V63r28_UWSL"
      },
      "outputs": [],
      "source": [
        "bis_idx.shape"
      ]
    },
    {
      "cell_type": "code",
      "execution_count": null,
      "metadata": {
        "id": "-laJzmE9UWU_"
      },
      "outputs": [],
      "source": [
        "bis_idx"
      ]
    },
    {
      "cell_type": "code",
      "execution_count": null,
      "metadata": {
        "id": "OPRAdkYhUcyg"
      },
      "outputs": [],
      "source": [
        "#SQI nan 아닌 애들 indexing\n",
        "\n",
        "sqi = data0[:,1]\n",
        "sqi_cond = ~np.isnan(sqi)"
      ]
    },
    {
      "cell_type": "code",
      "execution_count": null,
      "metadata": {
        "id": "07yjEY4OikIQ"
      },
      "outputs": [],
      "source": [
        "np.isnan(sqi)[np.isnan(sqi) == False].size"
      ]
    },
    {
      "cell_type": "code",
      "execution_count": null,
      "metadata": {
        "id": "JknjoXiAftR2"
      },
      "outputs": [],
      "source": [
        "idx_arr_s = np.arange(0, len(sqi), 1)\n",
        "sqi_idx = idx_arr_s[sqi_cond]"
      ]
    },
    {
      "cell_type": "code",
      "execution_count": null,
      "metadata": {
        "id": "suJ2MePQfunE"
      },
      "outputs": [],
      "source": [
        "sqi_idx"
      ]
    },
    {
      "cell_type": "code",
      "execution_count": null,
      "metadata": {
        "id": "1za5LMqhfxLv"
      },
      "outputs": [],
      "source": [
        "#EEG 30s씩 자르기\n",
        "\n",
        "start = 55*100\n",
        "\n",
        "eeg_start_idx = bis_idx - start\n",
        "eeg_start_idx = eeg_start_idx[eeg_start_idx >= 0]"
      ]
    },
    {
      "cell_type": "code",
      "execution_count": null,
      "metadata": {
        "id": "8Oc2CIKLf1RU"
      },
      "outputs": [],
      "source": [
        "eeg = data0[:, 2]\n",
        "eeg"
      ]
    },
    {
      "cell_type": "code",
      "source": [
        "eeg.shape"
      ],
      "metadata": {
        "id": "452Y9JEhowDz"
      },
      "execution_count": null,
      "outputs": []
    },
    {
      "cell_type": "code",
      "execution_count": null,
      "metadata": {
        "id": "svjebTD0jlW0"
      },
      "outputs": [],
      "source": [
        "a = np.isnan(bis)[np.isnan(bis) == True].size\n",
        "b = np.isnan(sqi)[np.isnan(sqi) == True].size\n",
        "c = np.isnan(eeg)[np.isnan(eeg) == True].size"
      ]
    },
    {
      "cell_type": "code",
      "execution_count": null,
      "metadata": {
        "id": "01owSO5AicWP"
      },
      "outputs": [],
      "source": [
        "print( \"BIS nan 값 개수 : \" , a)\n",
        "print(\"SQI nan 값 개수 : \" , b )\n",
        "print(\"EEG nan 값 개수 : \" , c)"
      ]
    },
    {
      "cell_type": "code",
      "execution_count": null,
      "metadata": {
        "id": "qwb8zNXCf3IG"
      },
      "outputs": [],
      "source": [
        "eeg_start_idx.shape"
      ]
    },
    {
      "cell_type": "code",
      "execution_count": null,
      "metadata": {
        "id": "MYU_NIADf5N0"
      },
      "outputs": [],
      "source": [
        "eeg_start_idx"
      ]
    },
    {
      "cell_type": "code",
      "execution_count": null,
      "metadata": {
        "id": "oVtJ_aqhf94s"
      },
      "outputs": [],
      "source": [
        "from tqdm import tqdm"
      ]
    },
    {
      "cell_type": "code",
      "execution_count": null,
      "metadata": {
        "id": "JY-xCpJCgA4G"
      },
      "outputs": [],
      "source": [
        "eeg_segments = []\n",
        "bis_label = []\n",
        "sqi_label = []\n",
        "for start_idx in tqdm(eeg_start_idx):\n",
        "  end_idx = start_idx + 30 * 100\n",
        "  eeg_segments += list([eeg[start_idx:end_idx]])\n",
        "  bis_label += list([bis[start_idx]])\n",
        "  sqi_label += list([sqi[start_idx]])"
      ]
    },
    {
      "cell_type": "code",
      "execution_count": null,
      "metadata": {
        "id": "upzlkkNhgDiv"
      },
      "outputs": [],
      "source": [
        "eeg_segments = np.array(eeg_segments)\n",
        "bis_label = np.array(bis_label)\n",
        "sqi_label = np.array(sqi_label)"
      ]
    },
    {
      "cell_type": "code",
      "source": [
        "eeg_segments"
      ],
      "metadata": {
        "id": "9cSK-DGooIBY"
      },
      "execution_count": null,
      "outputs": []
    },
    {
      "cell_type": "code",
      "execution_count": null,
      "metadata": {
        "id": "3odsgJ9KgUPv"
      },
      "outputs": [],
      "source": [
        "bis_label.shape"
      ]
    },
    {
      "cell_type": "code",
      "execution_count": null,
      "metadata": {
        "id": "RNykhNIGYISh"
      },
      "outputs": [],
      "source": [
        "sqi_label"
      ]
    },
    {
      "cell_type": "code",
      "execution_count": null,
      "metadata": {
        "id": "MF-A1I4_gE0F"
      },
      "outputs": [],
      "source": [
        "# SQI > 90인 condition 만들기\n",
        "sqi_cond2 = sqi_label > 90\n",
        "sqi_cond2"
      ]
    },
    {
      "cell_type": "code",
      "execution_count": null,
      "metadata": {
        "id": "a09SVnNygGik"
      },
      "outputs": [],
      "source": [
        "# # BIS, SQI, EEG 모두 SQI > 90으로 filtering\n",
        "\n",
        "# bis_label = bis_label[sqi_cond2]\n",
        "# sqi_label = sqi_label[sqi_cond2]\n",
        "# eeg_selected = eeg_segments[sqi_cond2]"
      ]
    },
    {
      "cell_type": "code",
      "execution_count": null,
      "metadata": {
        "id": "UNbjUFBZ4w80"
      },
      "outputs": [],
      "source": [
        "#directory 생성해서 전처리 완료한 결과물을 저장"
      ]
    },
    {
      "cell_type": "code",
      "execution_count": null,
      "metadata": {
        "id": "GbZZcwBEgTB6"
      },
      "outputs": [],
      "source": [
        "bis_label.shape, sqi_label.shape, eeg_selected.shape"
      ]
    },
    {
      "cell_type": "code",
      "execution_count": null,
      "metadata": {
        "id": "W7lVVPgk7nEO"
      },
      "outputs": [],
      "source": [
        "#eeg flatten 1차원 array 생성\n",
        "eeg_flat = eeg_selected.flatten()"
      ]
    },
    {
      "cell_type": "markdown",
      "source": [
        "# EEG 결측값 정리"
      ],
      "metadata": {
        "id": "IwUhCOzyToon"
      }
    },
    {
      "cell_type": "code",
      "source": [],
      "metadata": {
        "id": "yDI2CH8KTn5H"
      },
      "execution_count": null,
      "outputs": []
    },
    {
      "cell_type": "markdown",
      "metadata": {
        "id": "bpJBVsnUOFz7"
      },
      "source": [
        "#EEG 이상치 제거하기"
      ]
    },
    {
      "cell_type": "code",
      "source": [
        "from scipy.stats import mode"
      ],
      "metadata": {
        "id": "UlJAIHhfmXl9"
      },
      "execution_count": null,
      "outputs": []
    },
    {
      "cell_type": "code",
      "source": [
        "eeg"
      ],
      "metadata": {
        "id": "V3OvrY3LnG8w"
      },
      "execution_count": null,
      "outputs": []
    },
    {
      "cell_type": "code",
      "source": [
        "# # 대표값\n",
        "# # print('평균 : ', np.mean(eeg_segments))\n",
        "# # print('중앙값 : ', np.median(data))\n",
        "# # print('최빈값 : ', np.bincount(data).argmax())\n",
        "# print('제 1 사분위수 : ', np.quantile(eeg, 0.25))\n",
        "# print('제 2 사분위수 : ', np.quantile(eeg, 0.5))\n",
        "# print('제 3 사분위수 : ', np.quantile(eeg, 0.75))\n",
        "\n",
        "# print('')\n",
        "# # 최대 최소\n",
        "# print('최대값 : ', np.max(eeg))\n",
        "# print('최소값 : ', np.min(eeg))\n",
        "# print('')\n",
        "# # 산포를 나타내는 통계량 ddof=True 분모 자유도, ddof=False 분모 데이터 개수\n",
        "# print('표본 표준편차(자유도) : ', np.std(eeg, ddof=True))\n",
        "# print('표본 표준편차(데이터 개수) : ', np.std(eeg, ddof=False))\n",
        "# print('표본 분산(자유도) : ', np.var(eeg, ddof=True))\n",
        "# print('표본 분산(데이터 개수) : ', np.var(eeg, ddof=False))\n",
        "print('IQR : ', np.subtract(*np.quantile(eeg, [0.75, 0.25]))) ## 또는 np.quantile(data, 0.75)-np.quantile(data, 0.25)\n",
        "# print('범위 : ', np.max(eeg)-np.min(eeg))"
      ],
      "metadata": {
        "id": "vrTKpatmmVaG"
      },
      "execution_count": null,
      "outputs": []
    },
    {
      "cell_type": "code",
      "source": [
        "import seaborn as sns\n",
        "sns.kdeplot(eeg, shade = True)\n",
        "plt.show()"
      ],
      "metadata": {
        "id": "dUXmcxvpKiWh"
      },
      "execution_count": null,
      "outputs": []
    },
    {
      "cell_type": "code",
      "source": [],
      "metadata": {
        "id": "A3qZx_jbRjHz"
      },
      "execution_count": null,
      "outputs": []
    },
    {
      "cell_type": "code",
      "source": [
        "Q3, Q1 = np.percentile(eeg, [75,25])\n",
        "IQR = Q3 - Q1\n",
        "IQR"
      ],
      "metadata": {
        "id": "81NE6NvsRrkR"
      },
      "execution_count": null,
      "outputs": []
    },
    {
      "cell_type": "code",
      "source": [
        "#이상치 제거\n",
        "\n",
        "def outliers_iqr(data):\n",
        "  q1, q3 = np.percentile(data, [25,75])\n",
        "  iqr = q3 - q1\n",
        "  lower_bound = q1 - (iqr * 1.5)\n",
        "  upper_bound = q3 + (iqr * 1.5)\n",
        "\n",
        "  return iqr\n",
        "  # outlier = np.where((data > upper_bound)|(data < lower_bound))\n",
        "  # return outlier"
      ],
      "metadata": {
        "id": "UMI0RhHBpaYH"
      },
      "execution_count": null,
      "outputs": []
    },
    {
      "cell_type": "code",
      "source": [],
      "metadata": {
        "id": "HcBI26dJGopN",
        "colab": {
          "base_uri": "https://localhost:8080/"
        },
        "outputId": "44a45f8f-8502-4860-8636-6a052c43f9e5"
      },
      "execution_count": null,
      "outputs": [
        {
          "output_type": "execute_result",
          "data": {
            "text/plain": [
              "nan"
            ]
          },
          "metadata": {},
          "execution_count": 146
        }
      ]
    },
    {
      "cell_type": "code",
      "source": [
        "bis_label.shape"
      ],
      "metadata": {
        "id": "Qk_tY5TkaYR-"
      },
      "execution_count": null,
      "outputs": []
    },
    {
      "cell_type": "code",
      "source": [
        "test10 = np.array([7,5,6,6,5,7,4,6,3,4,5,7,8,3,6])\n",
        "outliers_iqr(test10)"
      ],
      "metadata": {
        "id": "RosOd16VIFhD"
      },
      "execution_count": null,
      "outputs": []
    },
    {
      "cell_type": "code",
      "source": [
        "q1 = np.percentile(eeg, 25)\n",
        "q1"
      ],
      "metadata": {
        "id": "8nS5URN1JzSb"
      },
      "execution_count": null,
      "outputs": []
    },
    {
      "cell_type": "code",
      "source": [
        "eeg_segments_del = outliers_iqr(eeg_segments)"
      ],
      "metadata": {
        "id": "I23U9QkSqHHI"
      },
      "execution_count": null,
      "outputs": []
    },
    {
      "cell_type": "code",
      "source": [
        "eeg_segments_del"
      ],
      "metadata": {
        "id": "xDvd-9ttqRGO"
      },
      "execution_count": null,
      "outputs": []
    },
    {
      "cell_type": "code",
      "source": [
        "eeg_del = outliers_iqr(eeg)[0]"
      ],
      "metadata": {
        "id": "P5GlRMADqdfx"
      },
      "execution_count": null,
      "outputs": []
    },
    {
      "cell_type": "code",
      "source": [
        "np.array(eeg_del).shape"
      ],
      "metadata": {
        "id": "BpnGM8foqhCU"
      },
      "execution_count": null,
      "outputs": []
    },
    {
      "cell_type": "code",
      "source": [
        "eeg_del"
      ],
      "metadata": {
        "id": "QEu6Ob25qrco"
      },
      "execution_count": null,
      "outputs": []
    },
    {
      "cell_type": "code",
      "source": [
        "#eeg_segments 정규분포\n",
        "\n",
        "import matplotlib.pyplot as plt\n",
        "import numpy as np\n",
        "from scipy.stats import norm\n",
        "\n",
        "x = eeg\n",
        "plt.figure(figsize=(15,10))\n",
        "plt.title('Standard Normal Distribution')\n",
        "plt.xlabel('x')\n",
        "plt.ylabel('f(x)')\n",
        "plt.grid()\n",
        "plt.plot(x, norm.pdf(x, loc=0, scale=1))\n",
        "plt.show()"
      ],
      "metadata": {
        "id": "C5149cOjq1jK"
      },
      "execution_count": null,
      "outputs": []
    },
    {
      "cell_type": "code",
      "source": [
        "import seaborn as sns\n",
        "sns.boxplot(data=eeg)"
      ],
      "metadata": {
        "id": "F2FGIwD5COBv"
      },
      "execution_count": null,
      "outputs": []
    },
    {
      "cell_type": "code",
      "execution_count": null,
      "metadata": {
        "id": "DW9qHQVWOKb3"
      },
      "outputs": [],
      "source": [
        "eeg_segments.shape, bis_label.shape"
      ]
    },
    {
      "cell_type": "code",
      "source": [],
      "metadata": {
        "id": "Sds1Ym7oE4ap"
      },
      "execution_count": null,
      "outputs": []
    },
    {
      "cell_type": "code",
      "execution_count": null,
      "metadata": {
        "id": "PV4AlniiWkR2"
      },
      "outputs": [],
      "source": [
        "#추출 test\n",
        "\n",
        "test = [-9,-7,-5,-3,0,3,5,7,9]\n",
        "test_abs = np.abs(test)\n",
        "test_abs = np.array(test_abs)\n",
        "test_abs\n",
        "\n",
        "idx_test = np.arange(0, len(test), 1)\n",
        "test_con = test_abs < 7\n",
        "test_con\n",
        "test_sel = test_abs[test_con]\n",
        "test_sel\n",
        "\n",
        "test_sel"
      ]
    },
    {
      "cell_type": "code",
      "execution_count": null,
      "metadata": {
        "id": "_r1IEIqlQz32"
      },
      "outputs": [],
      "source": [
        "#eeg max 값 뽑아내기\n",
        "# eeg_segments로부터 출발 (19575, 3000)\n",
        "\n",
        "eeg_seg_abs = np.abs(eeg_segments)\n",
        "\n",
        "map(max, eeg_seg_abs)\n",
        "eeg_max_list = list(map(max, eeg_seg_abs))\n",
        "\n",
        "eeg_max_list = np.array(eeg_max_list)\n",
        "eeg_max_list\n"
      ]
    },
    {
      "cell_type": "code",
      "source": [
        "# #test\n",
        "\n",
        "# # eeg_seg_abs = np.abs(eeg_segments)\n",
        "\n",
        "# eeg_seg = eeg_segments\n",
        "# map(max, eeg_seg)\n",
        "# eeg_max_list = list(map(max, eeg_seg))\n",
        "\n",
        "# eeg_max_list = np.array(eeg_max_list)\n",
        "# eeg_max_list\n",
        "\n",
        "# eeg_delcon2 = np.abs(eeg_max_list) < 500\n",
        "# eeg_delcon2\n",
        "\n",
        "# eeg_maxsel2 = eeg_seg[eeg_delcon2]\n",
        "# eeg_maxsel2.shape"
      ],
      "metadata": {
        "id": "4TRBJ93uE3On"
      },
      "execution_count": null,
      "outputs": []
    },
    {
      "cell_type": "code",
      "execution_count": null,
      "metadata": {
        "id": "sa4aHhSEZ_zj"
      },
      "outputs": [],
      "source": [
        "eeg_max_list.shape"
      ]
    },
    {
      "cell_type": "code",
      "execution_count": null,
      "metadata": {
        "id": "s_tw3ABxPqQi"
      },
      "outputs": [],
      "source": [
        "# np.set_printoptions(threshold=np.inf, linewidth=np.inf)\n",
        "eeg_delcon = eeg_max_list < 500\n",
        "eeg_delcon"
      ]
    },
    {
      "cell_type": "code",
      "execution_count": null,
      "metadata": {
        "id": "HWGfGjUfTvls"
      },
      "outputs": [],
      "source": [
        "eeg_maxsel = eeg_seg_abs[eeg_delcon]"
      ]
    },
    {
      "cell_type": "code",
      "execution_count": null,
      "metadata": {
        "id": "lkDr4kfXebeB"
      },
      "outputs": [],
      "source": [
        "# bis_label_del = np.arange(0, len(bis_label), 1)\n",
        "bis_label_del = bis_label[eeg_delcon]"
      ]
    },
    {
      "cell_type": "code",
      "execution_count": null,
      "metadata": {
        "id": "Kt4kKsePT_ku",
        "colab": {
          "base_uri": "https://localhost:8080/"
        },
        "outputId": "73af0104-28fc-47aa-85b5-47a16014c1dc"
      },
      "outputs": [
        {
          "output_type": "execute_result",
          "data": {
            "text/plain": [
              "(17799, 3000)"
            ]
          },
          "metadata": {},
          "execution_count": 147
        }
      ],
      "source": [
        "# bis_label.shape,\n",
        "eeg_maxsel.shape"
      ]
    },
    {
      "cell_type": "code",
      "execution_count": null,
      "metadata": {
        "id": "9I_0dJhbee5Y"
      },
      "outputs": [],
      "source": [
        "bis_label.shape"
      ]
    },
    {
      "cell_type": "code",
      "execution_count": null,
      "metadata": {
        "id": "NOQH4zTGUKdM"
      },
      "outputs": [],
      "source": [
        "#시각화\n",
        "\n",
        "x = np.linspace(0,17799, 17799)\n",
        "b = eeg_maxsel\n",
        "# plt.ticklabel_format(style='plain')\n",
        "\n",
        "fig, ax = plt.subplots(figsize = (40,4))\n",
        "\n",
        "plt.plot(x,b, color = 'navy')\n",
        "plt.xlabel('index', fontsize =20)\n",
        "plt.ylabel('EEG(μV)', fontsize = 20)\n",
        "plt.title('delete outliers of EEG', fontsize=20)\n",
        "plt.xticks(fontsize=20)\n",
        "plt.yticks(fontsize=20)\n",
        "\n",
        "\n",
        "plt.ticklabel_format(style='plain')\n",
        "\n",
        "# ax.set_xticks(minor_xticks, minor=True)\n",
        "ax.yaxis.get_ticklocs(minor=True)\n",
        "ax.minorticks_on()\n",
        "ax.xaxis.get_ticklocs(minor=True)\n",
        "\n",
        "ax.tick_params(axis='x', labelsize=20, length=10, width=3)\n",
        "ax.tick_params(axis='x', which='minor', length=5, width=2)\n",
        "# plt.fill_between(x, b, color = 'navy')\n"
      ]
    },
    {
      "cell_type": "markdown",
      "metadata": {
        "id": "NBh3ve-xUniV"
      },
      "source": [
        "# 시각화"
      ]
    },
    {
      "cell_type": "code",
      "execution_count": null,
      "metadata": {
        "id": "RngTpa-Ogmal"
      },
      "outputs": [],
      "source": [
        "#filtering 후 time- eeg 그래프 x축 time 맞다\n",
        "#filtering 전은 EEG_01에 있음\n",
        "\n",
        "x = np.linspace(0,10864,10864)\n",
        "b = eeg_selected\n",
        "# plt.ticklabel_format(style='plain')\n",
        "\n",
        "fig, ax = plt.subplots(figsize = (40,4))\n",
        "\n",
        "plt.plot(x,b, color = 'navy')\n",
        "plt.xlabel('time(sec)', fontsize =20)\n",
        "plt.ylabel('EEG(μV)', fontsize = 20)\n",
        "plt.title('time-EEG', fontsize=20)\n",
        "plt.xticks(fontsize=20)\n",
        "plt.yticks(fontsize=20)\n",
        "\n",
        "\n",
        "plt.ticklabel_format(style='plain')\n",
        "\n",
        "# ax.set_xticks(minor_xticks, minor=True)\n",
        "ax.yaxis.get_ticklocs(minor=True)\n",
        "ax.minorticks_on()\n",
        "ax.xaxis.get_ticklocs(minor=True)\n",
        "\n",
        "ax.tick_params(axis='x', labelsize=20, length=10, width=3)\n",
        "ax.tick_params(axis='x', which='minor', length=5, width=2)\n",
        "# plt.fill_between(x, b, color = 'navy')\n"
      ]
    },
    {
      "cell_type": "code",
      "execution_count": null,
      "metadata": {
        "id": "Dprr_VucguLs"
      },
      "outputs": [],
      "source": [
        "#filtering 후 time- bis 그래프\n",
        "\n",
        "x = np.linspace(0,10864,10864)\n",
        "b = bis_label\n",
        "# minor_xticks = [i for i in range(0,400,10864)]\n",
        "\n",
        "fig, ax = plt.subplots(figsize = (40,4))\n",
        "\n",
        "\n",
        "plt.plot(x,b, color = 'navy')\n",
        "plt.xlabel('time(sec)', fontsize = 20)\n",
        "plt.ylabel('BIS', fontsize = 25, rotation = 90)\n",
        "plt.ylim(0, 100)\n",
        "plt.title('time-BIS', fontsize = 20)\n",
        "plt.xticks(fontsize=20)\n",
        "plt.yticks(fontsize=20)\n",
        "# plt.ticklabel_format(style='plain')\n",
        "\n",
        "# ax.set_xticks(minor_xticks, minor=True)\n",
        "ax.yaxis.get_ticklocs(minor=True)\n",
        "ax.minorticks_on()\n",
        "ax.xaxis.get_ticklocs(minor=True)\n",
        "\n",
        "ax.tick_params(axis='x', labelsize=20, length=10, width=3)\n",
        "ax.tick_params(axis='x', which='minor', length=5, width=2)\n",
        "# plt.fill_between(x, b, color = 'navy')\n",
        "\n",
        "\n",
        "# # plt.rc('font', size=20)        # 기본 폰트 크기\n",
        "# plt.rc('axes', labelsize=20)   # x,y축 label 폰트 크기\n",
        "# plt.rc('xtick', fontsize=50)  # x축 눈금 폰트 크기\n",
        "# plt.rc('ytick', labelsize=20)  # y축 눈금 폰트 크기\n",
        "# plt.rc('legend', fontsize=20)  # 범례 폰트 크기\n",
        "# plt.rc('figure', titlesize=800) # figure title 폰트 크기"
      ]
    },
    {
      "cell_type": "code",
      "execution_count": null,
      "metadata": {
        "id": "UiGtu55ugzqs"
      },
      "outputs": [],
      "source": [
        "#time- sqi그래프\n",
        "\n",
        "x = np.linspace(0,10864,10864)\n",
        "b = sqi_label\n",
        "\n",
        "fig, ax = plt.subplots(figsize = (40,4))\n",
        "plt.plot(x,b,color = 'navy')\n",
        "plt.xlabel('time(sec)', fontsize = 20)\n",
        "plt.ylabel('SQI(%)', fontsize = 20)\n",
        "plt.ylim(0, 100)\n",
        "plt.title('time-SQI', fontsize = 20)\n",
        "plt.xticks(fontsize=20)\n",
        "plt.yticks(fontsize=20)\n",
        "# plt.ticklabel_format(style='plain')\n",
        "\n",
        "ax.yaxis.get_ticklocs(minor=True)\n",
        "ax.minorticks_on()\n",
        "ax.xaxis.get_ticklocs(minor=True)\n",
        "\n",
        "ax.tick_params(axis='x', labelsize=20, length=10, width=3)\n",
        "ax.tick_params(axis='x', which='minor', length=5, width=2)\n",
        "# plt.fill_between(x, b, color = 'navy')\n",
        "\n"
      ]
    },
    {
      "cell_type": "code",
      "execution_count": null,
      "metadata": {
        "id": "EwyM_JRRgzw6"
      },
      "outputs": [],
      "source": [
        "#모든 raw data에 대해 전처리하기\n",
        "#함수만들기?\n",
        "#train, target"
      ]
    },
    {
      "cell_type": "code",
      "execution_count": null,
      "metadata": {
        "id": "mMEab6Dfg9T_"
      },
      "outputs": [],
      "source": [
        "#전처리하는 함수 만들기"
      ]
    },
    {
      "cell_type": "markdown",
      "metadata": {
        "id": "simnRUT3U16q"
      },
      "source": [
        "# 전처리 자동화"
      ]
    },
    {
      "cell_type": "code",
      "execution_count": null,
      "metadata": {
        "id": "LFiJR8in20Ro"
      },
      "outputs": [],
      "source": [
        "import os\n",
        "\n",
        "path = f'{proj_path}/data/raw'\n",
        "file_list = os.listdir(path)\n",
        "print(file_list)\n",
        "\n",
        "for file in file_list:\n",
        "    filepath = path + '/' + file\n",
        "    print(filepath)"
      ]
    },
    {
      "cell_type": "code",
      "execution_count": null,
      "metadata": {
        "id": "6sc11FFi3RLR"
      },
      "outputs": [],
      "source": [
        "#전처리 과정 담은 함수\n",
        "\n",
        "def preprocessing(filename):\n",
        "  # 전처리 과정 다 넣어두기\n",
        "  # return: 전처리 된 결과물을 파일로 return (control에서 하기)\n",
        "\n",
        "  filename = np.load(filepath)\n",
        "\n",
        "  bis=filename[:,0]\n",
        "  bis_cond = ~np.isnan(bis)\n",
        "  idx_arr = np.arange(0, len(bis), 1)\n",
        "  bis_idx = idx_arr[bis_cond]\n",
        "\n",
        "  sqi = filename[:,1]\n",
        "  sqi_cond = ~np.isnan(sqi)\n",
        "  idx_arr_s = np.arange(0, len(sqi), 1)\n",
        "  sqi_idx = idx_arr_s[sqi_cond]\n",
        "\n",
        "  eeg = filename[:, 2]\n",
        "  start = 55*100\n",
        "  eeg_start_idx = bis_idx - start\n",
        "  eeg_start_idx = eeg_start_idx[eeg_start_idx >= 0]\n",
        "\n",
        "  eeg_segments = []\n",
        "  bis_label = []\n",
        "  sqi_label = []\n",
        "\n",
        "  for start_idx in tqdm(eeg_start_idx):\n",
        "    end_idx = start_idx + 30 * 100\n",
        "    eeg_segments += list([eeg[start_idx:end_idx]])\n",
        "    bis_label += list([bis[start_idx]])\n",
        "    sqi_label += list([sqi[start_idx]])\n",
        "\n",
        "  eeg_segments = np.array(eeg_segments)\n",
        "  bis_label = np.array(bis_label)\n",
        "  sqi_label = np.array(sqi_label)\n",
        "\n",
        "  sqi_cond2 = sqi_label > 90\n",
        "\n",
        "  bis_label = bis_label[sqi_cond2]\n",
        "  sqi_label = sqi_label[sqi_cond2]\n",
        "  eeg_selected = eeg_segments[sqi_cond2]\n",
        "\n",
        "  inputs = eeg_selected\n",
        "  outputs = bis_label\n",
        "\n",
        "  return inputs, outputs\n",
        "  # 튜플\n"
      ]
    },
    {
      "cell_type": "code",
      "execution_count": null,
      "metadata": {
        "id": "0MRHMZMsvD9O"
      },
      "outputs": [],
      "source": [
        "#전처리 총괄하는 함수\n",
        "\n",
        "def control():\n",
        "\n",
        "  path = f'{proj_path}/data/raw'\n",
        "  input_path =  f'{proj_path}/data/preprocessed/inputs'\n",
        "  output_path = f'{proj_path}/data/preprocessed/outputs'\n",
        "  file_list = os.listdir(path)\n",
        "  print(file_list)\n",
        "\n",
        "  for file in file_list:\n",
        "    filepath = path + '/' + file\n",
        "    print(filepath)\n",
        "    preprocessing(filepath)\n",
        "    # preprocessed = preprocessing(filepath)\n",
        "\n",
        "    inputs, outputs = preprocessing(filepath)\n",
        "\n",
        "    np.save(input_path + \"/\" + file + \"_input.npy\", inputs)\n",
        "    np.save(output_path + \"/\" + file + \"_output.npy\", outputs)"
      ]
    },
    {
      "cell_type": "code",
      "execution_count": null,
      "metadata": {
        "id": "1FyJCZGSQCGu"
      },
      "outputs": [],
      "source": [
        "control()"
      ]
    }
  ],
  "metadata": {
    "colab": {
      "collapsed_sections": [
        "NBh3ve-xUniV",
        "simnRUT3U16q"
      ],
      "provenance": []
    },
    "kernelspec": {
      "display_name": "Python 3",
      "name": "python3"
    },
    "language_info": {
      "name": "python"
    }
  },
  "nbformat": 4,
  "nbformat_minor": 0
}